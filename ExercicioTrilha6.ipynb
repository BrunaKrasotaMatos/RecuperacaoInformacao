{
  "nbformat": 4,
  "nbformat_minor": 0,
  "metadata": {
    "colab": {
      "name": "ExercicioTrilha6.ipynb",
      "provenance": [],
      "authorship_tag": "ABX9TyM7p4MomGRjUYklz7xbf1kT",
      "include_colab_link": true
    },
    "kernelspec": {
      "name": "python3",
      "display_name": "Python 3"
    },
    "language_info": {
      "name": "python"
    }
  },
  "cells": [
    {
      "cell_type": "markdown",
      "metadata": {
        "id": "view-in-github",
        "colab_type": "text"
      },
      "source": [
        "<a href=\"https://colab.research.google.com/github/BrunaKrasotaMatos/RecuperacaoInformacao/blob/main/ExercicioTrilha6.ipynb\" target=\"_parent\"><img src=\"https://colab.research.google.com/assets/colab-badge.svg\" alt=\"Open In Colab\"/></a>"
      ]
    },
    {
      "cell_type": "code",
      "execution_count": null,
      "metadata": {
        "colab": {
          "base_uri": "https://localhost:8080/"
        },
        "id": "KhvUd4EOZ78N",
        "outputId": "fd946661-b5ae-4d34-d3b9-4ff51c7bbcd3"
      },
      "outputs": [
        {
          "output_type": "stream",
          "name": "stdout",
          "text": [
            "Collecting unidecode\n",
            "  Downloading Unidecode-1.3.4-py3-none-any.whl (235 kB)\n",
            "\u001b[?25l\r\u001b[K     |█▍                              | 10 kB 26.9 MB/s eta 0:00:01\r\u001b[K     |██▉                             | 20 kB 28.0 MB/s eta 0:00:01\r\u001b[K     |████▏                           | 30 kB 22.3 MB/s eta 0:00:01\r\u001b[K     |█████▋                          | 40 kB 13.4 MB/s eta 0:00:01\r\u001b[K     |███████                         | 51 kB 6.0 MB/s eta 0:00:01\r\u001b[K     |████████▍                       | 61 kB 7.0 MB/s eta 0:00:01\r\u001b[K     |█████████▊                      | 71 kB 7.8 MB/s eta 0:00:01\r\u001b[K     |███████████▏                    | 81 kB 8.7 MB/s eta 0:00:01\r\u001b[K     |████████████▌                   | 92 kB 9.6 MB/s eta 0:00:01\r\u001b[K     |██████████████                  | 102 kB 7.9 MB/s eta 0:00:01\r\u001b[K     |███████████████▎                | 112 kB 7.9 MB/s eta 0:00:01\r\u001b[K     |████████████████▊               | 122 kB 7.9 MB/s eta 0:00:01\r\u001b[K     |██████████████████              | 133 kB 7.9 MB/s eta 0:00:01\r\u001b[K     |███████████████████▌            | 143 kB 7.9 MB/s eta 0:00:01\r\u001b[K     |████████████████████▉           | 153 kB 7.9 MB/s eta 0:00:01\r\u001b[K     |██████████████████████▎         | 163 kB 7.9 MB/s eta 0:00:01\r\u001b[K     |███████████████████████▋        | 174 kB 7.9 MB/s eta 0:00:01\r\u001b[K     |█████████████████████████       | 184 kB 7.9 MB/s eta 0:00:01\r\u001b[K     |██████████████████████████▍     | 194 kB 7.9 MB/s eta 0:00:01\r\u001b[K     |███████████████████████████▉    | 204 kB 7.9 MB/s eta 0:00:01\r\u001b[K     |█████████████████████████████▏  | 215 kB 7.9 MB/s eta 0:00:01\r\u001b[K     |██████████████████████████████▋ | 225 kB 7.9 MB/s eta 0:00:01\r\u001b[K     |████████████████████████████████| 235 kB 7.9 MB/s eta 0:00:01\r\u001b[K     |████████████████████████████████| 235 kB 7.9 MB/s \n",
            "\u001b[?25hInstalling collected packages: unidecode\n",
            "Successfully installed unidecode-1.3.4\n",
            "Collecting fraction\n",
            "  Downloading Fraction-2.1.1-py3-none-any.whl (4.6 kB)\n",
            "Installing collected packages: fraction\n",
            "Successfully installed fraction-2.1.1\n",
            "[nltk_data] Downloading package stopwords to /root/nltk_data...\n",
            "[nltk_data]   Unzipping corpora/stopwords.zip.\n",
            "[nltk_data] Downloading package rslp to /root/nltk_data...\n",
            "[nltk_data]   Unzipping stemmers/rslp.zip.\n"
          ]
        }
      ],
      "source": [
        "#packages\n",
        "!pip install unidecode\n",
        "!pip install fraction\n",
        "\n",
        "# Load EDA Pkgs\n",
        "import pandas as pd\n",
        "import numpy as np\n",
        "import random\n",
        "\n",
        "# Load ML Pkgs\n",
        "from sklearn.naive_bayes import MultinomialNB\n",
        "from sklearn.linear_model import LogisticRegression\n",
        "from sklearn.feature_extraction.text import CountVectorizer\n",
        "from sklearn.model_selection import train_test_split\n",
        "from sklearn.metrics import accuracy_score\n",
        "import nltk\n",
        "from nltk.corpus import stopwords\n",
        "from nltk.tokenize import word_tokenize\n",
        "nltk.download('stopwords')\n",
        "nltk.download('rslp')\n",
        "\n",
        "#charts & others stuff\n",
        "from unidecode import unidecode\n",
        "import matplotlib.pyplot as plt\n",
        "import re\n",
        "import string\n",
        "from fractions import Fraction\n",
        "\n"
      ]
    }
  ]
}